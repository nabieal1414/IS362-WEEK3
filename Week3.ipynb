{
 "cells": [
  {
   "cell_type": "markdown",
   "metadata": {},
   "source": [
    "### PANDAS SERIES ###"
   ]
  },
  {
   "cell_type": "code",
   "execution_count": 10,
   "metadata": {},
   "outputs": [
    {
     "name": "stdout",
     "output_type": "stream",
     "text": [
      "Day 1 travell is  55\n",
      "Day 2 travell is  65\n",
      "Day 3 travell is  60\n",
      "Day 4 travell is  60\n",
      "Day 5 travell is  65\n",
      "Day 6 travell is  65\n"
     ]
    }
   ],
   "source": [
    "# import pandas\n",
    "import pandas as pd\n",
    "\n",
    "# define the array of odometer reading in array\n",
    "odometer_reading_per_day = [55,120,180,240,305,370]\n",
    "\n",
    "# creating series object\n",
    "s = pd.Series(odometer_reading_per_day)\n",
    "\n",
    "# iterate over the series object using for loop\n",
    "for i in range(len(s)):\n",
    "    # if index is 0 , measn it's a first day\n",
    "    if i == 0:\n",
    "        print(\"Day\", i+ 1,  \"travell is \", s[i])\n",
    "    else:\n",
    "        # current day travel distance is current - previous entry\n",
    "        print(\"Day\", i+ 1,  \"travell is \", s[i]-s[i-1])"
   ]
  }
 ],
 "metadata": {
  "kernelspec": {
   "display_name": "Python 3",
   "language": "python",
   "name": "python3"
  },
  "language_info": {
   "codemirror_mode": {
    "name": "ipython",
    "version": 3
   },
   "file_extension": ".py",
   "mimetype": "text/x-python",
   "name": "python",
   "nbconvert_exporter": "python",
   "pygments_lexer": "ipython3",
   "version": "3.8.3"
  }
 },
 "nbformat": 4,
 "nbformat_minor": 4
}
